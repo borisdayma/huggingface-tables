{
 "cells": [
  {
   "cell_type": "code",
   "execution_count": 1,
   "id": "249ac534-b580-49f7-977b-5a7737eb5e04",
   "metadata": {},
   "outputs": [],
   "source": [
    "import datasets"
   ]
  },
  {
   "cell_type": "code",
   "execution_count": 2,
   "id": "154dfebe-e7c3-4c2c-bb24-171aff93277a",
   "metadata": {},
   "outputs": [
    {
     "name": "stderr",
     "output_type": "stream",
     "text": [
      "Reusing dataset common_voice (/home/boris/.cache/huggingface/datasets/common_voice/tr/6.1.0/bb59ce0bb532485ab64b5d488a8dd2addc3104f694e06bcd2c272dc608bb1112)\n"
     ]
    }
   ],
   "source": [
    "eval_dataset = datasets.load_dataset(\"common_voice\", \"tr\", split=\"test\")"
   ]
  },
  {
   "cell_type": "code",
   "execution_count": 15,
   "id": "bbad782b-73c1-449a-b750-290b1772af67",
   "metadata": {},
   "outputs": [
    {
     "data": {
      "text/plain": [
       "Dataset({\n",
       "    features: ['accent', 'age', 'client_id', 'down_votes', 'gender', 'locale', 'path', 'segment', 'sentence', 'up_votes'],\n",
       "    num_rows: 10\n",
       "})"
      ]
     },
     "execution_count": 15,
     "metadata": {},
     "output_type": "execute_result"
    }
   ],
   "source": [
    "eval_dataset"
   ]
  },
  {
   "cell_type": "code",
   "execution_count": 16,
   "id": "93fe7e88-6b83-4c58-8792-c71bca415bb8",
   "metadata": {},
   "outputs": [],
   "source": [
    "# limit size of dataset to 10 elements\n",
    "eval_dataset = eval_dataset.select(range(10))"
   ]
  },
  {
   "cell_type": "code",
   "execution_count": 17,
   "id": "063a09b9-0e90-4625-ab54-0ab1e62e57e1",
   "metadata": {},
   "outputs": [
    {
     "data": {
      "text/plain": [
       "{'accent': '',\n",
       " 'age': '',\n",
       " 'client_id': '026eeac891913f2364d3a89af31d5b50344d61ab7c021855f4688cd6b13e0911f8bb741c3a9bc65ae967be70c61d88a5bfd1b121675e966bc010ef285f32f8cb',\n",
       " 'down_votes': 1,\n",
       " 'gender': '',\n",
       " 'locale': 'tr',\n",
       " 'path': '/home/boris/.cache/huggingface/datasets/downloads/extracted/17231187e54d1101bbbd168d6ff0de74e80acdd37df303b0f17c65abd73190af/cv-corpus-6.1-2020-12-11/tr/clips/common_voice_tr_23660893.mp3',\n",
       " 'segment': \"''\",\n",
       " 'sentence': 'Hayatta küçük şeyleri kovalıyor ve yine küçük şeyler için birbirimizi incitiyoruz.',\n",
       " 'up_votes': 2}"
      ]
     },
     "execution_count": 17,
     "metadata": {},
     "output_type": "execute_result"
    }
   ],
   "source": [
    "# access elements by index\n",
    "eval_dataset[0]"
   ]
  },
  {
   "cell_type": "code",
   "execution_count": 18,
   "id": "e23b6089-a320-41d7-a131-67d753f6451f",
   "metadata": {},
   "outputs": [
    {
     "data": {
      "text/plain": [
       "['', 'teens', '', '', '', '', '', 'twenties', '', '']"
      ]
     },
     "execution_count": 18,
     "metadata": {},
     "output_type": "execute_result"
    }
   ],
   "source": [
    "# access column of all elements\n",
    "eval_dataset['age']"
   ]
  },
  {
   "cell_type": "code",
   "execution_count": 28,
   "id": "d4a0855b-2c47-4eeb-8c24-17d03722b353",
   "metadata": {},
   "outputs": [
    {
     "data": {
      "text/plain": [
       "Dataset({\n",
       "    features: ['accent', 'age', 'client_id', 'down_votes', 'gender', 'locale', 'path', 'segment', 'up_votes'],\n",
       "    num_rows: 10\n",
       "})"
      ]
     },
     "execution_count": 28,
     "metadata": {},
     "output_type": "execute_result"
    }
   ],
   "source": [
    "# define inputs\n",
    "validation_inputs = eval_dataset.remove_columns('sentence')\n",
    "validation_inputs"
   ]
  },
  {
   "cell_type": "code",
   "execution_count": 34,
   "id": "c61deee9-93a6-42e5-a1ed-8a4ef939ff75",
   "metadata": {},
   "outputs": [
    {
     "name": "stdout",
     "output_type": "stream",
     "text": [
      "Item \n",
      " {'accent': '', 'age': '', 'client_id': '026eeac891913f2364d3a89af31d5b50344d61ab7c021855f4688cd6b13e0911f8bb741c3a9bc65ae967be70c61d88a5bfd1b121675e966bc010ef285f32f8cb', 'down_votes': 1, 'gender': '', 'locale': 'tr', 'path': '/home/boris/.cache/huggingface/datasets/downloads/extracted/17231187e54d1101bbbd168d6ff0de74e80acdd37df303b0f17c65abd73190af/cv-corpus-6.1-2020-12-11/tr/clips/common_voice_tr_23660893.mp3', 'segment': \"''\", 'up_votes': 2} \n",
      "\n",
      "Column \n",
      " ['', 'teens', '', '', '', '', '', 'twenties', '', '']\n"
     ]
    }
   ],
   "source": [
    "# we can iterate through elements by item or column\n",
    "print('Item \\n', validation_inputs[0], '\\n')\n",
    "print('Column \\n', validation_inputs['age'])"
   ]
  },
  {
   "cell_type": "code",
   "execution_count": 27,
   "id": "5b52af37-637b-4083-8b99-5b9760362e82",
   "metadata": {},
   "outputs": [
    {
     "data": {
      "text/plain": [
       "['Hayatta küçük şeyleri kovalıyor ve yine küçük şeyler için birbirimizi incitiyoruz.',\n",
       " 'Seydiu şimdi iki mevkiyi de kaybetti.',\n",
       " 'Fakat öte yandan, hayatta gelişim sağlayabilmek için kendimi ne kadar çok strese soktuğumu farkediyorum.',\n",
       " 'Seferler Haziran ayında başlıyor.',\n",
       " 'Siyasette temiz insanlara ihtiyacımız var.',\n",
       " 'Broz, büyükbabasının başarılarını gururla anıyor.',\n",
       " 'Calasan yetenekli çocuk bursu da aldı.',\n",
       " 'Referandum tarihi henüz belirlenmedi.',\n",
       " 'Her yaştan takasçı geliyor.',\n",
       " 'Atık yönetimi bir ülkenin yaşam tarzını yansıtır.']"
      ]
     },
     "execution_count": 27,
     "metadata": {},
     "output_type": "execute_result"
    }
   ],
   "source": [
    "# define targets\n",
    "validation_targets = eval_dataset['sentence']\n",
    "validation_targets"
   ]
  },
  {
   "cell_type": "code",
   "execution_count": null,
   "id": "5a88c200-be73-4bab-b1f3-b283faee6d9a",
   "metadata": {},
   "outputs": [],
   "source": [
    "# Ideally we will want to log all our elements prior to preprocessing\n",
    "from wandb.sdk.integration_utils.data_logging import ValidationDataLogger\n",
    "\n",
    "validation_logger = ValidationDataLogger(\n",
    "    inputs = validation_inputs,    # I'd like to log all columns\n",
    "    targets = validation_targets,  # for this one I only have one column in this example but I could also have probability of several classes\n",
    "    indexes = None,                # I guess same order is assumed by default\n",
    "    validation_row_processor = TODO,  # here I imagine I need to log inputs['path'] with wandb.Audio\n",
    "    input_col_name = 'input',         # how does it work if I have multiple input columns? Can I provide a list?\n",
    "    target_col_name = 'target',       # same question\n",
    "    class_labels = None)              # not sure how to use it but I assume you somehow detect prediction probabilities"
   ]
  }
 ],
 "metadata": {
  "kernelspec": {
   "display_name": "Python 3",
   "language": "python",
   "name": "python3"
  },
  "language_info": {
   "codemirror_mode": {
    "name": "ipython",
    "version": 3
   },
   "file_extension": ".py",
   "mimetype": "text/x-python",
   "name": "python",
   "nbconvert_exporter": "python",
   "pygments_lexer": "ipython3",
   "version": "3.8.5"
  }
 },
 "nbformat": 4,
 "nbformat_minor": 5
}
